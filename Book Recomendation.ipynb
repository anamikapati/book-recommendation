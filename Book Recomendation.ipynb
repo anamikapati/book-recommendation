{
 "cells": [
  {
   "cell_type": "markdown",
   "id": "013138e7",
   "metadata": {},
   "source": [
    "**Book Recommendation System\n",
    "This notebook builds a book recommendation system using collaborative filtering and similarity-based techniques**"
   ]
  },
  {
   "cell_type": "markdown",
   "id": "73b4dc8a",
   "metadata": {},
   "source": [
    "Step 1: Importing Required Libraries"
   ]
  },
  {
   "cell_type": "code",
   "execution_count": 1,
   "id": "e068a738-b8b5-4eaf-81c8-3a9dd5ab0e8f",
   "metadata": {},
   "outputs": [],
   "source": [
    "import pandas as pd\n",
    "from surprise import Dataset, Reader, SVD\n",
    "from surprise.model_selection import train_test_split\n",
    "from surprise import accuracy\n",
    "import numpy as np\n",
    "import ipywidgets as widgets\n",
    "from IPython.display import display"
   ]
  },
  {
   "cell_type": "markdown",
   "id": "a6e72861",
   "metadata": {},
   "source": [
    "Step 2: Loading the Dataset  "
   ]
  },
  {
   "cell_type": "code",
   "execution_count": 2,
   "id": "27638a2e-8a1e-49ad-bbf1-ce31116ca1d8",
   "metadata": {},
   "outputs": [],
   "source": [
    "ratings_df = pd.read_csv(r\"E:\\ratings.csv\")\n",
    "books_df = pd.read_csv(r\"E:\\books.csv\")"
   ]
  },
  {
   "cell_type": "code",
   "execution_count": 3,
   "id": "8d4328c7-9013-4b98-b0a4-e7fe9d23021f",
   "metadata": {},
   "outputs": [],
   "source": [
    "reader = Reader(rating_scale=(1, 5))\n",
    "data = Dataset.load_from_df(ratings_df[['user_id', 'book_id', 'rating']], reader)"
   ]
  },
  {
   "cell_type": "code",
   "execution_count": 4,
   "id": "172762d5-38f0-41e1-a27d-c90b1d19f7cb",
   "metadata": {},
   "outputs": [],
   "source": [
    "trainset, testset = train_test_split(data, test_size=0.2, random_state=42)\n",
    "model = SVD()\n",
    "model.fit(trainset)\n",
    "predictions = model.test(testset)"
   ]
  },
  {
   "cell_type": "code",
   "execution_count": 5,
   "id": "f50bd4bf-3fda-4e13-a4c2-424f3b87a8d5",
   "metadata": {},
   "outputs": [
    {
     "name": "stdout",
     "output_type": "stream",
     "text": [
      "RMSE: 0.8429\n",
      "RMSE: 0.8428999744254491\n",
      "MAE:  0.6592\n",
      "MAE: 0.6591772253076086\n"
     ]
    }
   ],
   "source": [
    "print(\"RMSE:\", accuracy.rmse(predictions))\n",
    "print(\"MAE:\", accuracy.mae(predictions))"
   ]
  },
  {
   "cell_type": "markdown",
   "id": "aa26e59a",
   "metadata": {},
   "source": [
    "Step 3: Data Cleaning and Preprocessing  "
   ]
  },
  {
   "cell_type": "code",
   "execution_count": 6,
   "id": "6c230804-1678-49d5-8ecc-2aa7ddf6e33f",
   "metadata": {},
   "outputs": [],
   "source": [
    "user_id = 42\n",
    "\n",
    "rated_books = ratings_df[ratings_df['user_id'] == user_id]['book_id'].tolist()\n",
    "\n",
    "all_book_ids = books_df['book_id'].unique()\n",
    "\n",
    "unrated_books = [bid for bid in all_book_ids if bid not in rated_books]\n",
    "\n",
    "predictions = [model.predict(user_id, bid) for bid in unrated_books]\n",
    "\n",
    "top_predictions = sorted(predictions, key=lambda x: x.est, reverse=True)[:10]\n"
   ]
  },
  {
   "cell_type": "code",
   "execution_count": 7,
   "id": "e48d3879-bce5-4273-a276-0401b923236e",
   "metadata": {},
   "outputs": [
    {
     "data": {
      "text/html": [
       "<div>\n",
       "<style scoped>\n",
       "    .dataframe tbody tr th:only-of-type {\n",
       "        vertical-align: middle;\n",
       "    }\n",
       "\n",
       "    .dataframe tbody tr th {\n",
       "        vertical-align: top;\n",
       "    }\n",
       "\n",
       "    .dataframe thead th {\n",
       "        text-align: right;\n",
       "    }\n",
       "</style>\n",
       "<table border=\"1\" class=\"dataframe\">\n",
       "  <thead>\n",
       "    <tr style=\"text-align: right;\">\n",
       "      <th></th>\n",
       "      <th>title</th>\n",
       "      <th>authors</th>\n",
       "      <th>average_rating</th>\n",
       "    </tr>\n",
       "  </thead>\n",
       "  <tbody>\n",
       "    <tr>\n",
       "      <th>144</th>\n",
       "      <td>Deception Point</td>\n",
       "      <td>Dan Brown</td>\n",
       "      <td>3.67</td>\n",
       "    </tr>\n",
       "    <tr>\n",
       "      <th>147</th>\n",
       "      <td>Girl with a Pearl Earring</td>\n",
       "      <td>Tracy Chevalier</td>\n",
       "      <td>3.85</td>\n",
       "    </tr>\n",
       "    <tr>\n",
       "      <th>232</th>\n",
       "      <td>Love in the Time of Cholera</td>\n",
       "      <td>Gabriel García Márquez, Edith Grossman</td>\n",
       "      <td>3.89</td>\n",
       "    </tr>\n",
       "    <tr>\n",
       "      <th>662</th>\n",
       "      <td>A People's History of the United States</td>\n",
       "      <td>Howard Zinn</td>\n",
       "      <td>4.07</td>\n",
       "    </tr>\n",
       "    <tr>\n",
       "      <th>1298</th>\n",
       "      <td>Still Life with Woodpecker</td>\n",
       "      <td>Tom Robbins</td>\n",
       "      <td>4.04</td>\n",
       "    </tr>\n",
       "    <tr>\n",
       "      <th>1387</th>\n",
       "      <td>The Last Juror</td>\n",
       "      <td>John Grisham</td>\n",
       "      <td>3.85</td>\n",
       "    </tr>\n",
       "    <tr>\n",
       "      <th>3254</th>\n",
       "      <td>The Beautiful and Damned</td>\n",
       "      <td>F. Scott Fitzgerald</td>\n",
       "      <td>3.75</td>\n",
       "    </tr>\n",
       "    <tr>\n",
       "      <th>3909</th>\n",
       "      <td>Peter and the Shadow Thieves (Peter and the St...</td>\n",
       "      <td>Dave Barry, Ridley Pearson, Greg Call</td>\n",
       "      <td>4.15</td>\n",
       "    </tr>\n",
       "    <tr>\n",
       "      <th>4871</th>\n",
       "      <td>Villa Incognito</td>\n",
       "      <td>Tom Robbins</td>\n",
       "      <td>3.65</td>\n",
       "    </tr>\n",
       "    <tr>\n",
       "      <th>6662</th>\n",
       "      <td>The Taste of Home Cookbook</td>\n",
       "      <td>Janet Briggs, Beth Wittlinger</td>\n",
       "      <td>4.25</td>\n",
       "    </tr>\n",
       "  </tbody>\n",
       "</table>\n",
       "</div>"
      ],
      "text/plain": [
       "                                                  title  \\\n",
       "144                                     Deception Point   \n",
       "147                           Girl with a Pearl Earring   \n",
       "232                         Love in the Time of Cholera   \n",
       "662             A People's History of the United States   \n",
       "1298                         Still Life with Woodpecker   \n",
       "1387                                     The Last Juror   \n",
       "3254                           The Beautiful and Damned   \n",
       "3909  Peter and the Shadow Thieves (Peter and the St...   \n",
       "4871                                    Villa Incognito   \n",
       "6662                         The Taste of Home Cookbook   \n",
       "\n",
       "                                     authors  average_rating  \n",
       "144                                Dan Brown            3.67  \n",
       "147                          Tracy Chevalier            3.85  \n",
       "232   Gabriel García Márquez, Edith Grossman            3.89  \n",
       "662                              Howard Zinn            4.07  \n",
       "1298                             Tom Robbins            4.04  \n",
       "1387                            John Grisham            3.85  \n",
       "3254                     F. Scott Fitzgerald            3.75  \n",
       "3909   Dave Barry, Ridley Pearson, Greg Call            4.15  \n",
       "4871                             Tom Robbins            3.65  \n",
       "6662           Janet Briggs, Beth Wittlinger            4.25  "
      ]
     },
     "execution_count": 7,
     "metadata": {},
     "output_type": "execute_result"
    }
   ],
   "source": [
    "top_book_ids = [int(pred.iid) for pred in top_predictions]\n",
    "recommended_books = books_df[books_df['book_id'].isin(top_book_ids)][['title', 'authors', 'average_rating']]\n",
    "recommended_books"
   ]
  },
  {
   "cell_type": "code",
   "execution_count": 8,
   "id": "21faebb6-99ed-48f4-9f1e-b9987ca20b4a",
   "metadata": {},
   "outputs": [],
   "source": [
    "def recommend_books(user_id, model, books_df, ratings_df, top_n=10):\n",
    "    rated_books = ratings_df[ratings_df['user_id'] == user_id]['book_id'].tolist()\n",
    "\n",
    "    all_book_ids = books_df['book_id'].unique()\n",
    "\n",
    "    unrated_books = [bid for bid in all_book_ids if bid not in rated_books]\n",
    "\n",
    "    predictions = [model.predict(user_id, bid) for bid in unrated_books]\n",
    "\n",
    "    top_predictions = sorted(predictions, key=lambda x: x.est, reverse=True)[:top_n]\n",
    "\n",
    "    top_book_ids = [int(pred.iid) for pred in top_predictions]\n",
    "\n",
    "    recommended_books = books_df[books_df['book_id'].isin(top_book_ids)][['title', 'authors', 'average_rating']]\n",
    "    \n",
    "    return recommended_books\n"
   ]
  },
  {
   "cell_type": "code",
   "execution_count": 9,
   "id": "fe0d86be-96e8-4e02-a4d8-8367901cdace",
   "metadata": {},
   "outputs": [
    {
     "name": "stdout",
     "output_type": "stream",
     "text": [
      "                                                  title  \\\n",
      "144                                     Deception Point   \n",
      "147                           Girl with a Pearl Earring   \n",
      "232                         Love in the Time of Cholera   \n",
      "662             A People's History of the United States   \n",
      "1298                         Still Life with Woodpecker   \n",
      "1387                                     The Last Juror   \n",
      "3254                           The Beautiful and Damned   \n",
      "3909  Peter and the Shadow Thieves (Peter and the St...   \n",
      "4871                                    Villa Incognito   \n",
      "6662                         The Taste of Home Cookbook   \n",
      "\n",
      "                                     authors  average_rating  \n",
      "144                                Dan Brown            3.67  \n",
      "147                          Tracy Chevalier            3.85  \n",
      "232   Gabriel García Márquez, Edith Grossman            3.89  \n",
      "662                              Howard Zinn            4.07  \n",
      "1298                             Tom Robbins            4.04  \n",
      "1387                            John Grisham            3.85  \n",
      "3254                     F. Scott Fitzgerald            3.75  \n",
      "3909   Dave Barry, Ridley Pearson, Greg Call            4.15  \n",
      "4871                             Tom Robbins            3.65  \n",
      "6662           Janet Briggs, Beth Wittlinger            4.25  \n"
     ]
    }
   ],
   "source": [
    "recommended_books = recommend_books(42, model, books_df, ratings_df, top_n=10)\n",
    "print(recommended_books)\n"
   ]
  },
  {
   "cell_type": "markdown",
   "id": "50930929",
   "metadata": {},
   "source": [
    "Step 4: Filtering Popular Books  "
   ]
  },
  {
   "cell_type": "code",
   "execution_count": 11,
   "id": "4aaa8c99-b9c3-4fa7-a8fd-3f951c5579e4",
   "metadata": {},
   "outputs": [],
   "source": [
    "book_tags_df = pd.read_csv(r\"E:\\book_tags.csv\")\n",
    "tags_df = pd.read_csv(r\"E:\\tags.csv\")\n",
    "\n",
    "book_tags_merged = pd.merge(book_tags_df, tags_df, on='tag_id', how='left')\n",
    "\n",
    "book_tags_grouped = book_tags_merged.groupby('goodreads_book_id')['tag_name'].apply(lambda x: ' '.join(x)).reset_index()\n",
    "\n",
    "books_df = pd.merge(books_df, book_tags_grouped, left_on='book_id', right_on='goodreads_book_id', how='left')\n",
    "\n",
    "books_df['metadata'] = books_df['title'] + ' ' + books_df['authors'] + ' ' + books_df['tag_name'].fillna('')\n"
   ]
  },
  {
   "cell_type": "code",
   "execution_count": 12,
   "id": "86494235-a7c7-4e68-a181-1dd9d73fc420",
   "metadata": {},
   "outputs": [],
   "source": [
    "from sklearn.feature_extraction.text import TfidfVectorizer\n",
    "from sklearn.metrics.pairwise import cosine_similarity\n",
    "\n",
    "tfidf = TfidfVectorizer(stop_words='english')\n",
    "tfidf_matrix = tfidf.fit_transform(books_df['metadata'])\n",
    "\n",
    "cosine_sim = cosine_similarity(tfidf_matrix, tfidf_matrix)\n",
    "\n",
    "indices = pd.Series(books_df.index, index=books_df['title'].str.lower())\n"
   ]
  },
  {
   "cell_type": "code",
   "execution_count": 13,
   "id": "75a5de52-87a8-4ac8-9a89-6090c20015cd",
   "metadata": {},
   "outputs": [
    {
     "name": "stdout",
     "output_type": "stream",
     "text": [
      "0               The Hunger Games (The Hunger Games, #1)\n",
      "1     Harry Potter and the Sorcerer's Stone (Harry P...\n",
      "2                               Twilight (Twilight, #1)\n",
      "3                                 To Kill a Mockingbird\n",
      "4                                      The Great Gatsby\n",
      "5                                The Fault in Our Stars\n",
      "6                                            The Hobbit\n",
      "7                                The Catcher in the Rye\n",
      "8                 Angels & Demons  (Robert Langdon, #1)\n",
      "9                                   Pride and Prejudice\n",
      "10                                      The Kite Runner\n",
      "11                            Divergent (Divergent, #1)\n",
      "12                                                 1984\n",
      "13                                          Animal Farm\n",
      "14                            The Diary of a Young Girl\n",
      "15     The Girl with the Dragon Tattoo (Millennium, #1)\n",
      "16                 Catching Fire (The Hunger Games, #2)\n",
      "17    Harry Potter and the Prisoner of Azkaban (Harr...\n",
      "18    The Fellowship of the Ring (The Lord of the Ri...\n",
      "19                    Mockingjay (The Hunger Games, #3)\n",
      "Name: title, dtype: object\n"
     ]
    }
   ],
   "source": [
    "# Print a list of book titles\n",
    "print(books_df['title'].head(20))  # Print top 20 books to check for matching titles\n"
   ]
  },
  {
   "cell_type": "markdown",
   "id": "10ede3bf",
   "metadata": {},
   "source": [
    "Step 5: Creating the Book-User Matrix  "
   ]
  },
  {
   "cell_type": "code",
   "execution_count": 14,
   "id": "40cd80f6-4df6-4f58-a600-d933734b76b7",
   "metadata": {},
   "outputs": [],
   "source": [
    "def recommend_similar_books(book_title, cosine_sim=cosine_sim, top_n=10):\n",
    "    # Normalize book titles to lowercase for case-insensitive matching\n",
    "    book_title = book_title.lower()\n",
    "\n",
    "    # Try to find exact match first\n",
    "    if book_title in indices.index:\n",
    "        idx = indices[book_title]\n",
    "    else:\n",
    "        # If exact match is not found, try partial matching\n",
    "        matching_books = books_df[books_df['title'].str.contains(book_title, case=False, na=False)]\n",
    "        \n",
    "        if matching_books.empty:\n",
    "            print(f\"❌ '{book_title}' not found in the dataset. Try another title.\")\n",
    "            return None\n",
    "        \n",
    "        print(f\"Found the following matching books:\")\n",
    "        print(matching_books[['title']].head(10))  # Show top 10 matches\n",
    "        idx = indices[matching_books.iloc[0]['title'].lower()]\n",
    "    \n",
    "    # Get similarity scores for the book\n",
    "    sim_scores = list(enumerate(cosine_sim[idx]))\n",
    "    \n",
    "    # Sort the books based on similarity scores\n",
    "    sim_scores = sorted(sim_scores, key=lambda x: x[1], reverse=True)\n",
    "    \n",
    "    # Get top N book indices\n",
    "    sim_scores = sim_scores[1:top_n+1]\n",
    "    book_indices = [i[0] for i in sim_scores]\n",
    "    \n",
    "    return books_df['title'].iloc[book_indices]\n"
   ]
  },
  {
   "cell_type": "code",
   "execution_count": 15,
   "id": "a4c14b76-0776-4d47-a622-de25dbc23c5d",
   "metadata": {},
   "outputs": [
    {
     "name": "stdout",
     "output_type": "stream",
     "text": [
      "Found the following matching books:\n",
      "                                               title\n",
      "1  Harry Potter and the Sorcerer's Stone (Harry P...\n",
      "22      Harry Potter and the Chamber of Secrets (Harry...\n",
      "26      Harry Potter and the Half-Blood Prince (Harry ...\n",
      "23      Harry Potter and the Goblet of Fire (Harry Pot...\n",
      "24      Harry Potter and the Deathly Hallows (Harry Po...\n",
      "17      Harry Potter and the Prisoner of Azkaban (Harr...\n",
      "20      Harry Potter and the Order of the Phoenix (Har...\n",
      "6140    Harry Potter and the Order of the Phoenix (Har...\n",
      "3752         Harry Potter Collection (Harry Potter, #1-6)\n",
      "421              Harry Potter Boxset (Harry Potter, #1-7)\n",
      "2100    The Harry Potter Collection 1-4 (Harry Potter,...\n",
      "Name: title, dtype: object\n"
     ]
    }
   ],
   "source": [
    "recommended_books_content = recommend_similar_books(\"Harry Potter and the Sorcerer's Stone\")\n",
    "if recommended_books_content is not None:\n",
    "    print(recommended_books_content)\n"
   ]
  },
  {
   "cell_type": "code",
   "execution_count": 16,
   "id": "c5650d24-fe52-4bc4-90f4-591feb5d8ce1",
   "metadata": {},
   "outputs": [],
   "source": [
    "from surprise import Dataset, Reader\n",
    "\n",
    "# Define the format for the ratings DataFrame (userId, bookId, rating)\n",
    "reader = Reader(rating_scale=(1, 10))  # Assuming ratings are in the range 1-10\n",
    "data = Dataset.load_from_df(ratings_df[['user_id', 'book_id', 'rating']], reader)\n"
   ]
  },
  {
   "cell_type": "code",
   "execution_count": 17,
   "id": "a21bc1ce-2504-446d-a4e1-200f0e14a886",
   "metadata": {},
   "outputs": [],
   "source": [
    "from surprise.model_selection import train_test_split\n",
    "\n",
    "# Split into train/test set (80% train, 20% test)\n",
    "trainset, testset = train_test_split(data, test_size=0.2)\n"
   ]
  },
  {
   "cell_type": "code",
   "execution_count": 18,
   "id": "895409eb-f4b9-40ba-88e8-24773afbaafe",
   "metadata": {},
   "outputs": [
    {
     "data": {
      "text/plain": [
       "<surprise.prediction_algorithms.matrix_factorization.SVD at 0x1e21d3cf8f0>"
      ]
     },
     "execution_count": 18,
     "metadata": {},
     "output_type": "execute_result"
    }
   ],
   "source": [
    "from surprise import SVD\n",
    "\n",
    "# Initialize and train the model\n",
    "model = SVD()\n",
    "model.fit(trainset)\n"
   ]
  },
  {
   "cell_type": "markdown",
   "id": "b055a370",
   "metadata": {},
   "source": [
    "Step 6: Building the Recommendation Model "
   ]
  },
  {
   "cell_type": "code",
   "execution_count": 19,
   "id": "6e5318bc-b423-4cb0-ab69-2f18a5ba05b4",
   "metadata": {},
   "outputs": [
    {
     "name": "stdout",
     "output_type": "stream",
     "text": [
      "RMSE: 0.8439\n",
      "RMSE: 0.8438521411976474\n"
     ]
    }
   ],
   "source": [
    "from surprise import accuracy\n",
    "\n",
    "# Make predictions on the test set\n",
    "predictions = model.test(testset)\n",
    "\n",
    "# Calculate RMSE\n",
    "rmse = accuracy.rmse(predictions)\n",
    "print(f'RMSE: {rmse}')\n"
   ]
  },
  {
   "cell_type": "code",
   "execution_count": 21,
   "id": "800cb1c9-0053-4c75-88ee-ed9014ffc629",
   "metadata": {},
   "outputs": [],
   "source": [
    "def get_collab_recommendations(user_id, model, books_df, ratings_df, top_n=10):\n",
    "    # Get all book IDs\n",
    "    all_book_ids = books_df['book_id'].unique()\n",
    "    \n",
    "    # Get books the user has already rated\n",
    "    rated_books = ratings_df[ratings_df['user_id'] == user_id]['book_id'].tolist()\n",
    "    \n",
    "    # Filter out rated books\n",
    "    books_to_predict = [bid for bid in all_book_ids if bid not in rated_books]\n",
    "    \n",
    "    # Predict rating for each book\n",
    "    predictions = [model.predict(user_id, book_id) for book_id in books_to_predict]\n",
    "    \n",
    "    # Sort by predicted rating\n",
    "    top_predictions = sorted(predictions, key=lambda x: x.est, reverse=True)[:top_n]\n",
    "    \n",
    "    # Get book titles for top predictions\n",
    "    top_books = [books_df[books_df['book_id'] == int(pred.iid)].title.values[0] for pred in top_predictions]\n",
    "    \n",
    "    return top_books\n",
    "\n",
    "\n",
    "# Function to get content-based recommendations\n",
    "def get_content_recommendations(book_title, books_df, indices, cosine_sim, top_n=10):\n",
    "    idx = indices[book_title.lower()]\n",
    "    sim_scores = list(enumerate(cosine_sim[idx]))\n",
    "    sim_scores = sorted(sim_scores, key=lambda x: x[1], reverse=True)[1:top_n+1]\n",
    "    book_indices = [i[0] for i in sim_scores]\n",
    "    return books_df['title'].iloc[book_indices].tolist()\n",
    "\n",
    "\n",
    "# Combine both lists (Hybrid)\n",
    "def hybrid_recommendations(user_id, favorite_book_title, model, books_df, ratings_df, indices, cosine_sim, top_n=10):\n",
    "    collab_recs = get_collab_recommendations(user_id, model, books_df, ratings_df, top_n=top_n)\n",
    "    content_recs = get_content_recommendations(favorite_book_title, books_df, indices, cosine_sim, top_n=top_n)\n",
    "    \n",
    "    # Combine and remove duplicates, prioritize overlap\n",
    "    combined = list(dict.fromkeys(collab_recs + content_recs))  # Maintains order and removes duplicates\n",
    "    return combined[:top_n]\n"
   ]
  },
  {
   "cell_type": "markdown",
   "id": "db1e7e12",
   "metadata": {},
   "source": [
    "Step 7: Making Book Recommendations  "
   ]
  },
  {
   "cell_type": "code",
   "execution_count": 22,
   "id": "658a7a4b-18c3-453d-a624-01c180534239",
   "metadata": {},
   "outputs": [
    {
     "name": "stdout",
     "output_type": "stream",
     "text": [
      "📚 Recommended Books:\n",
      "• Still Life with Woodpecker\n",
      "• The Beautiful and Damned\n",
      "• Amsterdam\n",
      "• The Curious Incident of the Dog in the Night-Time\n",
      "• Tears of the Giraffe (No. 1 Ladies' Detective Agency, #2)\n",
      "• The Taste of Home Cookbook\n",
      "• The Millionaire Next Door: The Surprising Secrets of Americas Wealthy\n",
      "• Villa Incognito\n",
      "• Jewel\n",
      "• Peter and the Shadow Thieves (Peter and the Starcatchers, #2)\n"
     ]
    }
   ],
   "source": [
    "user_id = 123  # Use a valid user ID from your ratings.csv\n",
    "favorite_book = \"The Hunger Games (The Hunger Games, #1)\"\n",
    "\n",
    "recommendations = hybrid_recommendations(user_id, favorite_book, model, books_df, ratings_df, indices, cosine_sim)\n",
    "print(\"📚 Recommended Books:\")\n",
    "for book in recommendations:\n",
    "    print(\"•\", book)\n"
   ]
  },
  {
   "cell_type": "markdown",
   "id": "f50043bc",
   "metadata": {},
   "source": [
    "Summary"
   ]
  },
  {
   "cell_type": "code",
   "execution_count": 27,
   "id": "c48ea733-0b52-4fee-a8c5-8f71a38c7056",
   "metadata": {},
   "outputs": [
    {
     "name": "stdout",
     "output_type": "stream",
     "text": [
      "📚 Welcome to the Book Recommender!\n",
      "You can skip User ID if you want content-based suggestions only.\n",
      "Type 'exit' anytime to quit.\n",
      "\n"
     ]
    },
    {
     "name": "stdout",
     "output_type": "stream",
     "text": [
      "Enter User ID (or press Enter to skip / type 'exit'):  \n",
      "Enter a book title (or type 'exit'):  1984\n"
     ]
    },
    {
     "name": "stdout",
     "output_type": "stream",
     "text": [
      "\n",
      "✅ Top Recommendations:\n",
      "1. Animal Farm\n",
      "2. Brave New World\n",
      "3. Animal Farm / 1984\n",
      "4. Lord of the Flies\n",
      "5. Keep the Aspidistra Flying\n",
      "6. Fahrenheit 451\n",
      "7. A Clockwork Orange\n",
      "8. The Catcher in the Rye\n",
      "9. One Flew Over the Cuckoo's Nest\n",
      "10. The Invisible Man\n",
      "\n",
      "--------------------------------------------\n",
      "\n"
     ]
    },
    {
     "name": "stdout",
     "output_type": "stream",
     "text": [
      "Enter User ID (or press Enter to skip / type 'exit'):  exit\n"
     ]
    },
    {
     "name": "stdout",
     "output_type": "stream",
     "text": [
      "👋 Exiting the recommender. Have a great day!\n"
     ]
    }
   ],
   "source": [
    "def get_popular_books(books_df, ratings_df, top_n=10):\n",
    "    # Merge books with ratings\n",
    "    merged = ratings_df.merge(books_df, on='book_id')\n",
    "    popular_books = (\n",
    "        merged.groupby('title')['rating']\n",
    "        .agg(['count', 'mean'])\n",
    "        .sort_values(by=['count', 'mean'], ascending=False)\n",
    "        .head(top_n)\n",
    "        .index.tolist()\n",
    "    )\n",
    "    return popular_books\n",
    "\n",
    "def run_enhanced_interface():\n",
    "    print(\"📚 Welcome to the Book Recommender!\")\n",
    "    print(\"You can skip User ID if you want content-based suggestions only.\")\n",
    "    print(\"Type 'exit' anytime to quit.\\n\")\n",
    "\n",
    "    while True:\n",
    "        user_input = input(\"Enter User ID (or press Enter to skip / type 'exit'): \").strip()\n",
    "        if user_input.lower() == 'exit':\n",
    "            print(\"👋 Exiting the recommender. Have a great day!\")\n",
    "            break\n",
    "\n",
    "        user_id = None\n",
    "        if user_input != '':\n",
    "            try:\n",
    "                user_id = int(user_input)\n",
    "            except ValueError:\n",
    "                print(\"❌ Invalid User ID. Please enter a numeric value or leave blank.\")\n",
    "                continue\n",
    "\n",
    "        book_title = input(\"Enter a book title (or type 'exit'): \").strip()\n",
    "        if book_title.lower() == 'exit':\n",
    "            print(\"👋 Exiting the recommender. Have a great day!\")\n",
    "            break\n",
    "\n",
    "        try:\n",
    "            # Check if title exists in dataset\n",
    "            if book_title.lower() not in indices:\n",
    "                print(\"\\n⚠️ Book title not found. Showing popular books instead:\\n\")\n",
    "                popular = get_popular_books(books_df, ratings_df)\n",
    "                for i, title in enumerate(popular, 1):\n",
    "                    print(f\"{i}. {title}\")\n",
    "                print(\"\\n--------------------------------------------\\n\")\n",
    "                continue\n",
    "\n",
    "            if user_id is not None:\n",
    "                recommendations = hybrid_recommendations(\n",
    "                    user_id,\n",
    "                    book_title,\n",
    "                    model,\n",
    "                    books_df,\n",
    "                    ratings_df,\n",
    "                    indices,\n",
    "                    cosine_sim\n",
    "                )\n",
    "            else:\n",
    "                recommendations = recommend_similar_books(book_title)\n",
    "\n",
    "            print(\"\\n✅ Top Recommendations:\")\n",
    "            for idx, book in enumerate(recommendations, 1):\n",
    "                print(f\"{idx}. {book}\")\n",
    "            print(\"\\n--------------------------------------------\\n\")\n",
    "\n",
    "        except Exception as e:\n",
    "            print(\"❌ Error:\", str(e))\n",
    "            print(\"⚠️ Please try again with a valid book title.\")\n",
    "            print(\"\\n--------------------------------------------\\n\")\n",
    "\n",
    "# Run the interface\n",
    "run_enhanced_interface()\n"
   ]
  },
  {
   "cell_type": "markdown",
   "id": "873c7f82-cbf7-43a4-90e6-9910d7dc1ab4",
   "metadata": {},
   "source": [
    "**Method 2**: Genre based Classification"
   ]
  },
  {
   "cell_type": "code",
   "execution_count": 28,
   "id": "2a9ccc1e-ba94-43e7-9a84-bff387da6cbc",
   "metadata": {},
   "outputs": [],
   "source": [
    "# Merge tag data\n",
    "tags = pd.read_csv(r\"E:\\tags.csv\")\n",
    "book_tags = pd.read_csv(r\"E:\\book_tags.csv\")\n",
    "book_tags = book_tags.merge(tags, on='tag_id')\n",
    "\n",
    "# Clean tag counts\n",
    "book_tags = book_tags[book_tags['count'] > 50]  # Optional threshold\n",
    "\n",
    "# Aggregate tags per book\n",
    "book_genres = book_tags.groupby('goodreads_book_id')['tag_name'].apply(list).reset_index()\n",
    "book_genres.columns = ['goodreads_book_id', 'genres']\n",
    "\n",
    "# Merge with books_df\n",
    "books_with_genres = books_df.merge(book_genres, left_on='book_id', right_on='goodreads_book_id', how='left')\n"
   ]
  },
  {
   "cell_type": "code",
   "execution_count": 33,
   "id": "5dbc817c-1f56-45d7-8f38-f78255045d2f",
   "metadata": {},
   "outputs": [],
   "source": [
    "def filter_by_genre(recommendations, books_df, genre):\n",
    "    filtered_books = []\n",
    "    for title in recommendations:\n",
    "        genres = books_df.loc[books_df['title'] == title, 'genres'].values\n",
    "        if len(genres) > 0 and isinstance(genres[0], list):\n",
    "            if any(genre.lower() in g.lower() for g in genres[0]):\n",
    "                filtered_books.append(title)\n",
    "    return filtered_books\n"
   ]
  },
  {
   "cell_type": "code",
   "execution_count": 34,
   "id": "e0f79b45-da89-4729-a4f8-fe347498a29b",
   "metadata": {},
   "outputs": [
    {
     "name": "stdout",
     "output_type": "stream",
     "text": [
      "Enter a genre to filter by (or press Enter to skip):  fiction\n"
     ]
    },
    {
     "name": "stdout",
     "output_type": "stream",
     "text": [
      "\n",
      "✅ Top Recommendations in 'fiction':\n",
      "1. Tears of the Giraffe (No. 1 Ladies' Detective Agency, #2)\n"
     ]
    }
   ],
   "source": [
    "genre_input = input(\"Enter a genre to filter by (or press Enter to skip): \").strip()\n",
    "\n",
    "# After getting `recommendations`, apply genre filter\n",
    "if genre_input:\n",
    "    recommendations = filter_by_genre(recommendations, books_with_genres, genre_input)\n",
    "    if not recommendations:\n",
    "        print(f\"⚠️ No recommendations found for genre: {genre_input}.\")\n",
    "    else:\n",
    "        print(f\"\\n✅ Top Recommendations in '{genre_input}':\")\n",
    "        for i, book in enumerate(recommendations, 1):\n",
    "            print(f\"{i}. {book}\")\n",
    "else:\n",
    "    print(\"\\n✅ Top Recommendations:\")\n",
    "    for i, book in enumerate(recommendations, 1):\n",
    "        print(f\"{i}. {book}\")\n"
   ]
  }
 ],
 "metadata": {
  "kernelspec": {
   "display_name": "Python 3 (ipykernel)",
   "language": "python",
   "name": "python3"
  },
  "language_info": {
   "codemirror_mode": {
    "name": "ipython",
    "version": 3
   },
   "file_extension": ".py",
   "mimetype": "text/x-python",
   "name": "python",
   "nbconvert_exporter": "python",
   "pygments_lexer": "ipython3",
   "version": "3.12.3"
  }
 },
 "nbformat": 4,
 "nbformat_minor": 5
}
